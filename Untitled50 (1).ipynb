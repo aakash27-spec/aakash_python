{
 "cells": [
  {
   "cell_type": "code",
   "execution_count": null,
   "metadata": {},
   "outputs": [],
   "source": [
    "#Write an API for a URL shortener service with three components\n",
    "# Expand the Shortened URL\n",
    "from pyshorteners import Shortener \n",
    "  \n",
    "long_url = 'http://www.jerricks.org'\n",
    "  \n",
    "API_Key = 'AIzaSyBBS...jXKIGh1fNU'\n",
    "  \n",
    "url_shortener = Shortener('jerricks', api_key = API_Key) \n",
    "\n",
    "print (\"Short URL is {}\".format(url_shortener.short(long_url)))"
   ]
  },
  {
   "cell_type": "code",
   "execution_count": 14,
   "metadata": {},
   "outputs": [],
   "source": [
    "#Code to Expand URL\n",
    "from pyshorteners import Shortener \n",
    "\n",
    "ACCESS_TOKEN = '82e8156...c1dce4e12c6'\n",
    "  \n",
    "url = 'http://bit.ly/3g8D9gU'\n",
    "url_expander = Shortener('Bitly', bitly_token = ACCESS_TOKEN) \n",
    "  \n",
    "print (\"Long URL is {}\".format(url_expander.expand(url))) "
   ]
  },
  {
   "cell_type": "code",
   "execution_count": 1,
   "metadata": {},
   "outputs": [
    {
     "name": "stdout",
     "output_type": "stream",
     "text": [
      "Short URL from 12345 is :  dnh\n",
      "ID from dnh is :  12345\n"
     ]
    }
   ],
   "source": [
    "#Url shortener service should store metadata about short URL\n",
    "def idToShortURL(id): \n",
    "    map = \"abcdefghijklmnopqrstuvwxyzABCDEFGHIJKLMNOPQRSTUVWXYZ0123456789\"\n",
    "    shortURL = \"\" \n",
    "      \n",
    "    # for each digit find the base 62 \n",
    "    while(id > 0): \n",
    "        shortURL += map[id % 62] \n",
    "        id //= 62\n",
    "  \n",
    "    # reversing the shortURL \n",
    "    return shortURL[len(shortURL): : -1] \n",
    "  \n",
    "def shortURLToId(shortURL): \n",
    "    id = 0\n",
    "    for i in shortURL: \n",
    "        val_i = ord(i) \n",
    "        if(val_i >= ord('a') and val_i <= ord('z')): \n",
    "            id = id*62 + val_i - ord('a') \n",
    "        elif(val_i >= ord('A') and val_i <= ord('Z')): \n",
    "            id = id*62 + val_i - ord('Z') + 26\n",
    "        else: \n",
    "            id = id*62 + val_i - ord('0') + 52\n",
    "    return id\n",
    "  \n",
    "if (__name__ == \"__main__\"): \n",
    "    id = 12345\n",
    "    shortURL = idToShortURL(id) \n",
    "    print(\"Short URL from 12345 is : \", shortURL) \n",
    "    print(\"ID from\", shortURL, \"is : \", shortURLToId(shortURL)) "
   ]
  },
  {
   "cell_type": "code",
   "execution_count": 2,
   "metadata": {},
   "outputs": [
    {
     "name": "stdout",
     "output_type": "stream",
     "text": [
      " * Serving Flask app \"__main__\" (lazy loading)\n",
      " * Environment: production\n",
      "   WARNING: This is a development server. Do not use it in a production deployment.\n",
      "   Use a production WSGI server instead.\n",
      " * Debug mode: on\n"
     ]
    },
    {
     "name": "stderr",
     "output_type": "stream",
     "text": [
      " * Restarting with stat\n"
     ]
    },
    {
     "ename": "SystemExit",
     "evalue": "1",
     "output_type": "error",
     "traceback": [
      "An exception has occurred, use %tb to see the full traceback.\n",
      "\u001b[1;31mSystemExit\u001b[0m\u001b[1;31m:\u001b[0m 1\n"
     ]
    },
    {
     "name": "stderr",
     "output_type": "stream",
     "text": [
      "C:\\Users\\Aakash\\Anaconda3\\lib\\site-packages\\IPython\\core\\interactiveshell.py:3333: UserWarning: To exit: use 'exit', 'quit', or Ctrl-D.\n",
      "  warn(\"To exit: use 'exit', 'quit', or Ctrl-D.\", stacklevel=1)\n"
     ]
    }
   ],
   "source": [
    " #API should have an endpoint for search. Search will return results matching the title of the URL\n",
    " # Using flask to make an api \n",
    "# import necessary libraries and functions \n",
    "from flask import Flask, jsonify, request \n",
    "  \n",
    "# creating a Flask app \n",
    "app = Flask(__name__) \n",
    "  \n",
    "# on the terminal type: curl http://127.0.0.1:5000/ \n",
    "# returns hello world when we use GET. \n",
    "# returns the data that we send when we use POST. \n",
    "@app.route('/', methods = ['GET', 'POST']) \n",
    "def home(): \n",
    "    if(request.method == 'GET'): \n",
    "  \n",
    "        data = \"hello world\"\n",
    "        return jsonify({'data': data}) \n",
    "  \n",
    "  \n",
    "# A simple function to calculate the square of a number \n",
    "# the number to be squared is sent in the URL when we use GET \n",
    "# on the terminal type: curl http://127.0.0.1:5000 / home / 10 \n",
    "# this returns 100 (square of 10) \n",
    "@app.route('/home/<int:num>', methods = ['GET']) \n",
    "def disp(num): \n",
    "  \n",
    "    return jsonify({'data': num**2}) \n",
    "  \n",
    "  \n",
    "# driver function \n",
    "if __name__ == '__main__': \n",
    "  \n",
    "    app.run(debug = True) "
   ]
  },
  {
   "cell_type": "code",
   "execution_count": null,
   "metadata": {},
   "outputs": [],
   "source": [
    "# using flask_restful \n",
    "from flask import Flask, jsonify, request \n",
    "from flask_restful import Resource, Api \n",
    "  \n",
    "# creating the flask app \n",
    "app = Flask(__name__) \n",
    "# creating an API object \n",
    "api = Api(app) \n",
    "  \n",
    "# making a class for a particular resource \n",
    "# the get, post methods correspond to get and post requests \n",
    "# they are automatically mapped by flask_restful. \n",
    "# other methods include put, delete, etc. \n",
    "class Hello(Resource): \n",
    "  \n",
    "    # corresponds to the GET request. \n",
    "    # this function is called whenever there \n",
    "    # is a GET request for this resource \n",
    "    def get(self): \n",
    "  \n",
    "        return jsonify({'message': 'hello world'}) \n",
    "  \n",
    "    # Corresponds to POST request \n",
    "    def post(self): \n",
    "          \n",
    "        data = request.get_json()     # status code \n",
    "        return jsonify({'data': data}), 201\n",
    "  \n",
    "  \n",
    "# another resource to calculate the square of a number \n",
    "class Square(Resource): \n",
    "  \n",
    "    def get(self, num): \n",
    "  \n",
    "        return jsonify({'square': num**2}) \n",
    "  \n",
    "  \n",
    "# adding the defined resources along with their corresponding urls \n",
    "api.add_resource(Hello, '/') \n",
    "api.add_resource(square, '/square/<int:num>') \n",
    "  \n",
    "  \n",
    "# driver function \n",
    "if __name__ == '__main__': \n",
    "  \n",
    "    app.run(debug = True)"
   ]
  },
  {
   "cell_type": "code",
   "execution_count": null,
   "metadata": {},
   "outputs": [],
   "source": []
  }
 ],
 "metadata": {
  "kernelspec": {
   "display_name": "Python 3",
   "language": "python",
   "name": "python3"
  }
 },
 "nbformat": 4,
 "nbformat_minor": 2
}
